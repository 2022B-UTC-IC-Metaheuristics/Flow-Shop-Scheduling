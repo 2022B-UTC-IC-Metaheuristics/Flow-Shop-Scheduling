{
 "cells": [
  {
   "attachments": {},
   "cell_type": "markdown",
   "metadata": {},
   "source": [
    "Este notebook presenta una propuesta de solución para Flow Shop Scheduling\n",
    "Se generan todas las permutaciones posibles para probarlas y obtener el makespan (costo) de la solución.\n",
    "Finalmente se elige la solución con el makespan mas bajo."
   ]
  },
  {
   "cell_type": "code",
   "execution_count": null,
   "metadata": {},
   "outputs": [],
   "source": [
    "import numpy as np\n",
    "from itertools import permutations"
   ]
  },
  {
   "cell_type": "code",
   "execution_count": null,
   "metadata": {},
   "outputs": [],
   "source": [
    "def makespan(n_jobs, n_machines, job_matrix):\n",
    "    #Inicializar \n",
    "    completion_times = np.zeros((n_jobs, n_machines))\n",
    "    job_order = np.zeros((n_jobs, n_machines), dtype=np.int32)\n",
    "    start_times = np.zeros(n_machines)\n",
    "\n",
    "    for i in range(n_jobs):\n",
    "        for j in range(n_machines):\n",
    "            # Si es la primera maquina, empieza en el tiempo 0\n",
    "            if j == 0:\n",
    "                start_times[j] = completion_times[i-1,j] if i > 0 else 0\n",
    "            else:\n",
    "                start_times[j] = max(completion_times[i,j-1], completion_times[i-1,j])\n",
    "            # Actualiza el tiempo de completado y el orden de trabajo para el trabajo en la maquina actual\n",
    "            completion_times[i,j] = start_times[j] + job_matrix[i,j]\n",
    "            job_order[i,j] = i\n",
    "\n",
    "    # Get the order of jobs by sorting them based on their completion time on the last machine\n",
    "    last_machine_times = completion_times[:, -1]\n",
    "    job_order = job_order[np.argsort(last_machine_times)]\n",
    "\n",
    "    # Return the completion time of the last job on the last machine and the order of jobs\n",
    "    return completion_times[-1,-1], job_order.tolist()"
   ]
  },
  {
   "cell_type": "code",
   "execution_count": null,
   "metadata": {},
   "outputs": [],
   "source": [
    "n_jobs = 5\n",
    "n_machines = 4\n",
    "#processing_times = np.array([[5,10,6,8], [8,15,5,7], [8,5,7,9]])\n",
    "processing_times = np.array([[5,4,4,3],[5,4,4,6],[3,2,3,3],[6,4,4,2], [3,4,1,5]])"
   ]
  },
  {
   "cell_type": "code",
   "execution_count": null,
   "metadata": {},
   "outputs": [],
   "source": [
    "#Genera todas las permutaciones posibles\n",
    "job_orders = permutations(range(n_jobs))\n",
    "\n",
    "min_completion_time = np.inf\n",
    "\n",
    "optimal_job_order = None\n",
    "\n",
    "# Probar cada permutacion hasta encontrar la que tenga el makespan mas bajo\n",
    "for job_order in job_orders:\n",
    "    processing_times_perm = processing_times[job_order,:]\n",
    "    #el orden ya esta establecido al enviar la matriz a makespan\n",
    "    completion_time, _ = makespan(n_jobs, n_machines, processing_times_perm)\n",
    "    if completion_time < min_completion_time:\n",
    "        min_completion_time = completion_time\n",
    "        optimal_job_order = list(job_order)\n",
    "\n",
    "# Print the optimal completion time and job order\n",
    "print(\"Optimal completion time:\", min_completion_time)\n",
    "print(\"Optimal job order:\", optimal_job_order)\n"
   ]
  }
 ],
 "metadata": {
  "language_info": {
   "name": "python"
  },
  "orig_nbformat": 4
 },
 "nbformat": 4,
 "nbformat_minor": 2
}
